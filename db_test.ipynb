{
 "cells": [
  {
   "cell_type": "code",
   "execution_count": null,
   "metadata": {},
   "outputs": [],
   "source": [
    "import sqlite3 as sql\n",
    "import pandas as pd\n",
    "import json"
   ]
  },
  {
   "cell_type": "markdown",
   "metadata": {},
   "source": [
    "# SQLite/Python test"
   ]
  },
  {
   "cell_type": "code",
   "execution_count": null,
   "metadata": {},
   "outputs": [],
   "source": [
    "con = sql.connect(\":memory:\")\n",
    "cur = con.cursor()\n",
    "\n",
    "cur.execute(\n",
    "    \"\"\"CREATE TABLE scenarios(\\\n",
    "id INTEGER PRIMARY KEY,\n",
    "created TEXT NOT NULL,\n",
    "completed TEXT,\n",
    "num_reps INTEGER NOT NULL CHECK (num_reps > 0),\n",
    "reps_done INTEGER NOT NULL CHECK (reps_done >= 0),\n",
    "sim_hours REAL NOT NULL CHECK (sim_hours > 0),\n",
    "result TEXT)\n",
    "\"\"\"\n",
    ")"
   ]
  },
  {
   "cell_type": "code",
   "execution_count": null,
   "metadata": {},
   "outputs": [],
   "source": [
    "cur.execute(\n",
    "    \"INSERT INTO scenarios VALUES(?,?,?,?,?,?,?)\",\n",
    "    (None, sql.Timestamp.utcnow().isoformat(), None, 10, 0, 1008.0, None)\n",
    ")\n",
    "scenario_id = cur.lastrowid\n",
    "con.commit()\n",
    "print(scenario_id)"
   ]
  },
  {
   "cell_type": "code",
   "execution_count": null,
   "metadata": {},
   "outputs": [],
   "source": [
    "pd.read_sql('SELECT * FROM scenarios', con, parse_dates={'created': {'utc': True}, 'completed': {'utc': True}})"
   ]
  },
  {
   "cell_type": "code",
   "execution_count": null,
   "metadata": {},
   "outputs": [],
   "source": [
    "cur.execute(\n",
    "    \"\"\"UPDATE scenarios\n",
    "    SET `reps_done` = `reps_done` + 1\n",
    "    WHERE id=?\n",
    "    \"\"\",\n",
    "    (scenario_id, )\n",
    ")\n",
    "con.commit()\n",
    "\n",
    "pd.read_sql('SELECT * FROM scenarios', con, parse_dates={'created': {'utc': True}, 'completed': {'utc': True}})"
   ]
  },
  {
   "cell_type": "code",
   "execution_count": null,
   "metadata": {},
   "outputs": [],
   "source": [
    "cur.execute(\n",
    "    \"\"\"UPDATE scenarios\n",
    "    SET\n",
    "        `reps_done` = 10,\n",
    "        `completed` = ?\n",
    "    WHERE id=?\n",
    "    \"\"\",\n",
    "    (sql.Timestamp.utcnow().isoformat(), scenario_id)\n",
    ")\n",
    "con.commit()\n",
    "\n",
    "df = pd.read_sql('SELECT * FROM scenarios', con, parse_dates={'created': {'utc': True}, 'completed': {'utc': True}})\n",
    "df"
   ]
  },
  {
   "cell_type": "code",
   "execution_count": null,
   "metadata": {},
   "outputs": [],
   "source": [
    "df.dtypes"
   ]
  },
  {
   "cell_type": "markdown",
   "metadata": {},
   "source": [
    "### JSON support"
   ]
  },
  {
   "cell_type": "code",
   "execution_count": null,
   "metadata": {},
   "outputs": [],
   "source": [
    "data = {'hello': 123, 'world': [4,5,6], 'this': 'is a test', 'the quick': 'brown fox jumps over the lazy dog'.split()}\n",
    "cur.execute(\n",
    "    \"\"\"UPDATE scenarios\n",
    "    SET\n",
    "        result = ?\n",
    "    WHERE id=?\n",
    "    \"\"\",\n",
    "    (json.dumps(data), scenario_id)\n",
    ")\n",
    "con.commit()\n",
    "\n",
    "df = pd.read_sql('SELECT *, LENGTH(`result`) FROM scenarios', con, parse_dates={'created': {'utc': True}, 'completed': {'utc': True}})\n",
    "df"
   ]
  },
  {
   "cell_type": "code",
   "execution_count": null,
   "metadata": {},
   "outputs": [],
   "source": [
    "pd.read_sql(\"\"\"SELECT json_extract(`result`, '$.this', '$.the quick[2]') AS json1 FROM scenarios\"\"\", con)"
   ]
  },
  {
   "cell_type": "code",
   "execution_count": null,
   "metadata": {},
   "outputs": [],
   "source": []
  }
 ],
 "metadata": {
  "kernelspec": {
   "display_name": ".venv",
   "language": "python",
   "name": "python3"
  },
  "language_info": {
   "codemirror_mode": {
    "name": "ipython",
    "version": 3
   },
   "file_extension": ".py",
   "mimetype": "text/x-python",
   "name": "python",
   "nbconvert_exporter": "python",
   "pygments_lexer": "ipython3",
   "version": "3.11.4"
  }
 },
 "nbformat": 4,
 "nbformat_minor": 2
}
