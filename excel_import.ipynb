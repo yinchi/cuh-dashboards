{
 "cells": [
  {
   "cell_type": "code",
   "execution_count": null,
   "metadata": {},
   "outputs": [],
   "source": [
    "import sys\n",
    "sys.path.append('src')"
   ]
  },
  {
   "cell_type": "code",
   "execution_count": null,
   "metadata": {},
   "outputs": [],
   "source": [
    "import model\n",
    "import excel as xlh\n",
    "import openpyxl as xl\n",
    "from pprint import pprint"
   ]
  },
  {
   "cell_type": "code",
   "execution_count": null,
   "metadata": {},
   "outputs": [],
   "source": [
    "wbook =xl.load_workbook('config.xlsx', data_only=True)"
   ]
  },
  {
   "cell_type": "code",
   "execution_count": null,
   "metadata": {},
   "outputs": [],
   "source": [
    "arrival_schedule_cancer_df = xlh.get_table(\n",
    "            wbook, sheet_name='Arrival Schedules', name='ArrivalScheduleCancer').set_index('Hour')\n",
    "arrival_schedule_noncancer_df = xlh.get_table(\n",
    "            wbook, sheet_name='Arrival Schedules', name='ArrivalScheduleNonCancer').set_index('Hour')"
   ]
  },
  {
   "cell_type": "code",
   "execution_count": null,
   "metadata": {},
   "outputs": [],
   "source": [
    "arrival_schedules = model.ArrivalSchedules(\n",
    "    cancer=model.ArrivalSchedule.from_pd(arrival_schedule_cancer_df),\n",
    "    noncancer=model.ArrivalSchedule.from_pd(arrival_schedule_noncancer_df)\n",
    ")"
   ]
  },
  {
   "cell_type": "code",
   "execution_count": null,
   "metadata": {},
   "outputs": [],
   "source": [
    "pprint(arrival_schedules.model_dump(), compact=True, width=120)"
   ]
  },
  {
   "cell_type": "code",
   "execution_count": null,
   "metadata": {},
   "outputs": [],
   "source": [
    "xlh.get_table(wbook, sheet_name='Resources', name='Resources').fillna(0.0).set_index('Resource')"
   ]
  },
  {
   "cell_type": "code",
   "execution_count": null,
   "metadata": {},
   "outputs": [],
   "source": [
    "resources_info = {key: model.ResourceInfo(\n",
    "    name=field.title,\n",
    "    type=field.json_schema_extra['resource_type'],\n",
    "    schedule=model.ResourceSchedule.from_pd(\n",
    "        xlh.get_table(wbook, sheet_name='Resources', name='Resources'\n",
    "                      ).fillna(0.0).set_index('Resource'),\n",
    "        row_name=field.title\n",
    "    )\n",
    ") for key, field in model.ResourcesInfo.model_fields.items()}\n",
    "resources_info = model.ResourcesInfo(**resources_info)\n",
    "pprint(resources_info.model_dump(), compact=True, width=120)"
   ]
  },
  {
   "cell_type": "code",
   "execution_count": null,
   "metadata": {},
   "outputs": [],
   "source": [
    "tasks_df = xlh.get_table(wbook, sheet_name='Task Durations', name='TaskDurations').set_index('Task')"
   ]
  },
  {
   "cell_type": "code",
   "execution_count": null,
   "metadata": {},
   "outputs": [],
   "source": [
    "model.TaskDurationsInfo.model_fields.items()"
   ]
  },
  {
   "cell_type": "code",
   "execution_count": null,
   "metadata": {},
   "outputs": [],
   "source": [
    "task_durations_info = {key: model.DistributionInfo(\n",
    "    type=tasks_df.loc[field.title,'Distribution'],\n",
    "    low=tasks_df.loc[field.title,'Optimistic'],\n",
    "    mode=tasks_df.loc[field.title,'Most Likely'],\n",
    "    high=tasks_df.loc[field.title,'Pessimistic'],\n",
    "    time_unit=tasks_df.loc[field.title,'Units'],\n",
    ") for key, field in model.TaskDurationsInfo.model_fields.items()}\n",
    "task_durations_info = model.TaskDurationsInfo(**task_durations_info)\n",
    "pprint(task_durations_info.model_dump(), compact=True, width=120)\n"
   ]
  },
  {
   "cell_type": "code",
   "execution_count": null,
   "metadata": {},
   "outputs": [],
   "source": [
    "batch_sizes_df = xlh.get_table(wbook, sheet_name='Batch Sizes', name='BatchSizes').set_index('Batch Name')"
   ]
  },
  {
   "cell_type": "code",
   "execution_count": null,
   "metadata": {},
   "outputs": [],
   "source": [
    "{key: batch_sizes_df.loc[field.title, 'Size'] for key, field in model.BatchSizes.model_fields.items()}"
   ]
  },
  {
   "cell_type": "code",
   "execution_count": null,
   "metadata": {},
   "outputs": [],
   "source": [
    "xlh.get_name(wbook, 'NumBlocksLargeSurgical')"
   ]
  },
  {
   "cell_type": "code",
   "execution_count": null,
   "metadata": {},
   "outputs": [],
   "source": [
    "globals_float = {key: xlh.get_name(wbook, field.title) for key, field in model.Globals.model_fields.items() if field.annotation==float}\n",
    "\n",
    "globals_float"
   ]
  },
  {
   "cell_type": "code",
   "execution_count": null,
   "metadata": {},
   "outputs": [],
   "source": [
    "globals_dists = {key: model.IntDistributionInfo(type=xlh.get_name(wbook, field.title)[0], low=xlh.get_name(wbook, field.title)[1], mode=xlh.get_name(wbook, field.title)[2], high=xlh.get_name(wbook, field.title)[3]) for key, field in model.Globals.model_fields.items() if field.annotation==model.IntDistributionInfo}\n",
    "\n",
    "globals_dists"
   ]
  },
  {
   "cell_type": "code",
   "execution_count": null,
   "metadata": {},
   "outputs": [],
   "source": [
    "model.Globals(**globals_float, **globals_dists)"
   ]
  },
  {
   "cell_type": "code",
   "execution_count": null,
   "metadata": {},
   "outputs": [],
   "source": []
  }
 ],
 "metadata": {
  "kernelspec": {
   "display_name": ".venv",
   "language": "python",
   "name": "python3"
  },
  "language_info": {
   "codemirror_mode": {
    "name": "ipython",
    "version": 3
   },
   "file_extension": ".py",
   "mimetype": "text/x-python",
   "name": "python",
   "nbconvert_exporter": "python",
   "pygments_lexer": "ipython3",
   "version": "3.11.4"
  }
 },
 "nbformat": 4,
 "nbformat_minor": 2
}
